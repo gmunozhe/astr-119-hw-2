{
 "cells": [
  {
   "cell_type": "code",
   "execution_count": null,
   "metadata": {},
   "outputs": [],
   "source": [
    "%matplotlib inline\n",
    "import numpy as np\n",
    "import matplotlib.pyplot as plt"
   ]
  },
  {
   "cell_type": "code",
   "execution_count": null,
   "metadata": {},
   "outputs": [],
   "source": [
    "x = np.linspace(0, 2*np.pi, 1000)\n",
    "\n",
    "y1 = 5.5*np.cos(2*x) + 5.5\n",
    "y2 = .02*np.exp(x)\n",
    "y3 = (.25*x**2) + .1*np.sin(10*x)\n",
    "\n",
    "plt.plot(x, y1, label=r'$y1$')\n",
    "plt.plot(x, y2, label=r'$y2$')\n",
    "plt.plot(x, y3, label=r'$y3$')\n",
    "\n",
    "plt.xlabel('Time in ASTR/EART 119')\n",
    "plt.ylabel('Measures of Awesomeness')\n",
    "plt.xlim(0, 2*np.pi)\n",
    "plt.ylim(-1, 10)\n",
    "plt.legend(loc=2, framealpha = 0.50)\n",
    "\n",
    "plt.show()"
   ]
  },
  {
   "cell_type": "code",
   "execution_count": null,
   "metadata": {},
   "outputs": [],
   "source": []
  }
 ],
 "metadata": {
  "kernelspec": {
   "display_name": "Python 3",
   "language": "python",
   "name": "python3"
  },
  "language_info": {
   "codemirror_mode": {
    "name": "ipython",
    "version": 3
   },
   "file_extension": ".py",
   "mimetype": "text/x-python",
   "name": "python",
   "nbconvert_exporter": "python",
   "pygments_lexer": "ipython3",
   "version": "3.7.0"
  }
 },
 "nbformat": 4,
 "nbformat_minor": 2
}
